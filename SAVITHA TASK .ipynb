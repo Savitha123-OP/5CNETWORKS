{
 "cells": [
  {
   "cell_type": "markdown",
   "id": "a5677bbc",
   "metadata": {},
   "source": [
    "SAPOTA SALES ANALYSIS "
   ]
  },
  {
   "cell_type": "markdown",
   "id": "d23d8ba3",
   "metadata": {},
   "source": [
    " FIRST QUESTION"
   ]
  },
  {
   "cell_type": "code",
   "execution_count": 1,
   "id": "eb2d0a28",
   "metadata": {},
   "outputs": [],
   "source": [
    "# Import necessary libraries\n",
    "import pandas as pd\n",
    "import numpy as np"
   ]
  },
  {
   "cell_type": "code",
   "execution_count": 2,
   "id": "92e322c6",
   "metadata": {},
   "outputs": [],
   "source": [
    "# Load sales data\n",
    "sales_data = pd.read_csv(\"C:/Users/New/Downloads/sales_data_1.csv\")"
   ]
  },
  {
   "cell_type": "code",
   "execution_count": 3,
   "id": "6d194d16",
   "metadata": {},
   "outputs": [],
   "source": [
    "# 1. Overall Gross Margin\n",
    "total_revenue = sales_data['Selling price'].sum()\n",
    "total_cost = sales_data['Buying price'].sum()\n",
    "overall_gross_margin = ((total_revenue - total_cost) / total_revenue) * 100"
   ]
  },
  {
   "cell_type": "code",
   "execution_count": 4,
   "id": "9ef33674",
   "metadata": {},
   "outputs": [],
   "source": [
    "# 2. Most Profitable Vendor\n",
    "profit_by_vendor = sales_data.groupby('Firm bought from')['Selling price'].sum() - sales_data.groupby('Firm bought from')['Buying price'].sum()\n",
    "most_profitable_vendor = profit_by_vendor.idxmax()"
   ]
  },
  {
   "cell_type": "code",
   "execution_count": 5,
   "id": "72f82204",
   "metadata": {},
   "outputs": [],
   "source": [
    "# 3. Least Profitable Customer\n",
    "profit_by_customer = sales_data.groupby('Customer')['Selling price'].sum() - sales_data.groupby('Customer')['Buying price'].sum()\n",
    "least_profitable_customer = profit_by_customer.idxmin()"
   ]
  },
  {
   "cell_type": "code",
   "execution_count": 6,
   "id": "4c1bef6b",
   "metadata": {},
   "outputs": [],
   "source": [
    "# 4. Most and Least Profitable Day of the Week\n",
    "sales_data['Day'] = pd.to_datetime(sales_data['Date']).dt.day_name()\n",
    "profit_by_day = sales_data.groupby('Day')['Selling price'].sum() - sales_data.groupby('Day')['Buying price'].sum()\n",
    "most_profitable_day = profit_by_day.idxmax()\n",
    "least_profitable_day = profit_by_day.idxmin()\n"
   ]
  },
  {
   "cell_type": "code",
   "execution_count": 7,
   "id": "86f469b1",
   "metadata": {},
   "outputs": [
    {
     "name": "stdout",
     "output_type": "stream",
     "text": [
      "1. Overall Gross Margin: 23.33%\n",
      "2. Most Profitable Vendor: Vendor7\n",
      "3. Least Profitable Customer: Customer9\n",
      "4. Most Profitable Day of the Week: Monday\n",
      "5. Least Profitable Day of the Week: Thursday\n"
     ]
    }
   ],
   "source": [
    "# Display the results\n",
    "print(f\"1. Overall Gross Margin: {overall_gross_margin:.2f}%\")\n",
    "print(f\"2. Most Profitable Vendor: {most_profitable_vendor}\")\n",
    "print(f\"3. Least Profitable Customer: {least_profitable_customer}\")\n",
    "print(f\"4. Most Profitable Day of the Week: {most_profitable_day}\")\n",
    "print(f\"5. Least Profitable Day of the Week: {least_profitable_day}\")"
   ]
  },
  {
   "cell_type": "markdown",
   "id": "2947dac7",
   "metadata": {},
   "source": [
    " SECOND QUESTION"
   ]
  },
  {
   "cell_type": "code",
   "execution_count": 9,
   "id": "65ae4c37",
   "metadata": {},
   "outputs": [],
   "source": [
    "# Load quantity data\n",
    "quantity_data = pd.read_csv(\"C:/Users/New/Downloads/sales_data_2.csv\")\n",
    "\n"
   ]
  },
  {
   "cell_type": "code",
   "execution_count": 10,
   "id": "dbdbcef4",
   "metadata": {},
   "outputs": [],
   "source": [
    "# 1. Calculate a 3-day average of daily gross profit\n",
    "quantity_data['Gross Profit'] = quantity_data['Selling price'] - quantity_data['Buying price']\n",
    "quantity_data['3-Day Avg Gross Profit'] = quantity_data['Gross Profit'].rolling(window=3).mean()\n",
    "\n"
   ]
  },
  {
   "cell_type": "code",
   "execution_count": 11,
   "id": "7eb15977",
   "metadata": {},
   "outputs": [],
   "source": [
    "# 2. Provide insights into how the 3-day trend changes over time\n",
    "# (You can plot this data to visualize trends)\n",
    "\n",
    "# 3. Optimize the sales process\n",
    "# a. Identify low-performing vendors and customers\n",
    "# b. Make decisions based on business strategy and goals\n",
    "\n",
    "# 4. Benchmark buying and selling prices\n",
    "buying_percentiles = np.percentile(sales_data['Buying price'], [25, 50, 75])\n",
    "selling_percentiles = np.percentile(sales_data['Selling price'], [25, 50, 75])\n",
    "\n",
    "\n"
   ]
  },
  {
   "cell_type": "code",
   "execution_count": 12,
   "id": "27e8d327",
   "metadata": {},
   "outputs": [],
   "source": [
    "# 5. Analyze how often prices fall below the 25th percentile or above the 75th percentile\n",
    "below_25th = sales_data[sales_data['Buying price'] < buying_percentiles[0]]['Buying price'].count()\n",
    "above_75th = sales_data[sales_data['Selling price'] > selling_percentiles[2]]['Selling price'].count()\n",
    "\n"
   ]
  },
  {
   "cell_type": "code",
   "execution_count": 13,
   "id": "00b238e5",
   "metadata": {},
   "outputs": [
    {
     "name": "stdout",
     "output_type": "stream",
     "text": [
      "1. 3-Day Average of Daily Gross Profit:\n",
      "          Date  3-Day Avg Gross Profit\n",
      "0   2023-08-21                     NaN\n",
      "1   2023-08-21                     NaN\n",
      "2   2023-08-21               15.976667\n",
      "3   2023-08-21               13.660000\n",
      "4   2023-08-21               24.786667\n",
      "..         ...                     ...\n",
      "65  2023-08-27               20.686667\n",
      "66  2023-08-27               22.173333\n",
      "67  2023-08-27               23.016667\n",
      "68  2023-08-27               26.010000\n",
      "69  2023-08-27               29.036667\n",
      "\n",
      "[70 rows x 2 columns]\n",
      "\n",
      "4. Benchmark Buying Prices - 25th, 50th (median), 75th Percentiles: [29.9  60.76 78.32]\n",
      "    Selling Prices - 25th, 50th (median), 75th Percentiles: [ 38.975   78.99   103.3975]\n",
      "5. Prices below 25th Percentile: 18, Prices above 75th Percentile: 18\n"
     ]
    }
   ],
   "source": [
    "# Display the results\n",
    "print(f\"1. 3-Day Average of Daily Gross Profit:\\n{quantity_data[['Date', '3-Day Avg Gross Profit']]}\\n\")\n",
    "print(f\"4. Benchmark Buying Prices - 25th, 50th (median), 75th Percentiles: {buying_percentiles}\")\n",
    "print(f\"    Selling Prices - 25th, 50th (median), 75th Percentiles: {selling_percentiles}\")\n",
    "print(f\"5. Prices below 25th Percentile: {below_25th}, Prices above 75th Percentile: {above_75th}\")"
   ]
  }
 ],
 "metadata": {
  "kernelspec": {
   "display_name": "Python 3 (ipykernel)",
   "language": "python",
   "name": "python3"
  },
  "language_info": {
   "codemirror_mode": {
    "name": "ipython",
    "version": 3
   },
   "file_extension": ".py",
   "mimetype": "text/x-python",
   "name": "python",
   "nbconvert_exporter": "python",
   "pygments_lexer": "ipython3",
   "version": "3.10.9"
  }
 },
 "nbformat": 4,
 "nbformat_minor": 5
}
